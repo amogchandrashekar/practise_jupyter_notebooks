{
 "cells": [
  {
   "cell_type": "markdown",
   "metadata": {},
   "source": [
    "## Add extension to find exectution time"
   ]
  },
  {
   "cell_type": "code",
   "execution_count": 1,
   "metadata": {},
   "outputs": [],
   "source": [
    "# ! pip3 install ipython-autotime\n",
    "%load_ext autotime"
   ]
  },
  {
   "cell_type": "markdown",
   "metadata": {},
   "source": [
    "## Imports"
   ]
  },
  {
   "cell_type": "code",
   "execution_count": 2,
   "metadata": {},
   "outputs": [
    {
     "name": "stdout",
     "output_type": "stream",
     "text": [
      "time: 679 ms\n"
     ]
    }
   ],
   "source": [
    "import numpy as np\n",
    "from pathlib import Path\n",
    "from sklearn.neighbors import KNeighborsClassifier\n",
    "\n",
    "from IPython.core.interactiveshell import InteractiveShell\n",
    "InteractiveShell.ast_node_interactivity = \"all\""
   ]
  },
  {
   "cell_type": "markdown",
   "metadata": {},
   "source": [
    "## Formatting data "
   ]
  },
  {
   "cell_type": "code",
   "execution_count": 12,
   "metadata": {},
   "outputs": [
    {
     "data": {
      "text/plain": [
       "['00000000000001111000000000000000',\n",
       " '00000000000011111110000000000000',\n",
       " '00000000001111111111000000000000',\n",
       " '00000001111111111111100000000000',\n",
       " '00000001111111011111100000000000',\n",
       " '00000011111110000011110000000000',\n",
       " '00000011111110000000111000000000',\n",
       " '00000011111110000000111100000000',\n",
       " '00000011111110000000011100000000',\n",
       " '00000011111110000000011100000000',\n",
       " '00000011111100000000011110000000',\n",
       " '00000011111100000000001110000000',\n",
       " '00000011111100000000001110000000',\n",
       " '00000001111110000000000111000000',\n",
       " '00000001111110000000000111000000',\n",
       " '00000001111110000000000111000000',\n",
       " '00000001111110000000000111000000',\n",
       " '00000011111110000000001111000000',\n",
       " '00000011110110000000001111000000',\n",
       " '00000011110000000000011110000000',\n",
       " '00000001111000000000001111000000',\n",
       " '00000001111000000000011111000000',\n",
       " '00000001111000000000111110000000',\n",
       " '00000001111000000001111100000000',\n",
       " '00000000111000000111111000000000',\n",
       " '00000000111100011111110000000000',\n",
       " '00000000111111111111110000000000',\n",
       " '00000000011111111111110000000000',\n",
       " '00000000011111111111100000000000',\n",
       " '00000000001111111110000000000000',\n",
       " '00000000000111110000000000000000',\n",
       " '00000000000011000000000000000000',\n",
       " '']"
      ]
     },
     "execution_count": 12,
     "metadata": {},
     "output_type": "execute_result"
    },
    {
     "data": {
      "text/plain": [
       "array([[0., 0., 0., 0., 0., 0., 0., 0., 0., 0., 0., 0., 0., 1., 1., 1.,\n",
       "        1., 0., 0., 0., 0., 0., 0., 0., 0., 0., 0., 0., 0., 0., 0., 0.]])"
      ]
     },
     "execution_count": 12,
     "metadata": {},
     "output_type": "execute_result"
    },
    {
     "data": {
      "text/plain": [
       "(1, 1024)"
      ]
     },
     "execution_count": 12,
     "metadata": {},
     "output_type": "execute_result"
    },
    {
     "name": "stdout",
     "output_type": "stream",
     "text": [
      "The first row looks correct!\n",
      "time: 14.8 ms\n"
     ]
    }
   ],
   "source": [
    "path_digits = \"../data/digits/training_digits/0_0.txt\"\n",
    "with open(path_digits, \"r\") as f:\n",
    "    digit_str = f.read()\n",
    "\n",
    "digit_np = np.zeros((1, 1024))\n",
    "\n",
    "for index, row in enumerate(digit_str.split(\"\\n\")):\n",
    "    if row:\n",
    "        for col in range(32):\n",
    "            digit_np[0, 32 * index + col] = int(row[col])\n",
    "\n",
    "digit_str.split(\"\\n\")\n",
    "digit_np[:, 0:32]\n",
    "digit_np.shape\n",
    "print(\"The first row looks correct!\")"
   ]
  },
  {
   "cell_type": "markdown",
   "metadata": {},
   "source": [
    "## Lets put it into a function"
   ]
  },
  {
   "cell_type": "code",
   "execution_count": 4,
   "metadata": {},
   "outputs": [
    {
     "name": "stdout",
     "output_type": "stream",
     "text": [
      "time: 2.33 ms\n"
     ]
    }
   ],
   "source": [
    "def image_to_vec(path_digits):\n",
    "    \"\"\"\n",
    "    Convert the text file to a numpy array\n",
    "    \"\"\"\n",
    "    digit_np = np.zeros((1, 1024))\n",
    "    with open(path_digits, \"r\") as f:\n",
    "        digit_str = f.read()\n",
    "    for index, row in enumerate(digit_str.split(\"\\n\")):\n",
    "        if not row: continue\n",
    "        for col in range(32):\n",
    "            digit_np[0, 32 * index + col] = int(row[col])\n",
    "    return digit_np"
   ]
  },
  {
   "cell_type": "markdown",
   "metadata": {},
   "source": [
    "## paths"
   ]
  },
  {
   "cell_type": "code",
   "execution_count": 5,
   "metadata": {},
   "outputs": [
    {
     "name": "stdout",
     "output_type": "stream",
     "text": [
      "time: 1.4 ms\n"
     ]
    }
   ],
   "source": [
    "path_train = Path(\"../data/digits/training_digits\")\n",
    "path_test = Path(\"../data/digits/testing_digits\")"
   ]
  },
  {
   "cell_type": "code",
   "execution_count": 14,
   "metadata": {},
   "outputs": [
    {
     "data": {
      "text/plain": [
       "(1934, 1024)"
      ]
     },
     "execution_count": 14,
     "metadata": {},
     "output_type": "execute_result"
    },
    {
     "name": "stdout",
     "output_type": "stream",
     "text": [
      "time: 946 ms\n"
     ]
    }
   ],
   "source": [
    "features_training, labels_training = np.zeros((1934, 1024)), list()\n",
    "for index, image_txt in enumerate(path_train.glob(\"*.txt\")):\n",
    "    labels_training.append(image_txt.stem.split(\"_\")[0])\n",
    "    features_training[index, :] = image_to_vec(image_txt)\n",
    "features_training.shape"
   ]
  },
  {
   "cell_type": "code",
   "execution_count": 24,
   "metadata": {},
   "outputs": [
    {
     "name": "stdout",
     "output_type": "stream",
     "text": [
      "time: 457 ms\n"
     ]
    }
   ],
   "source": [
    "features_testing, labels_testing = list(), list()\n",
    "for image_txt in path_test.glob(\"*.txt\"):\n",
    "    labels_testing.append(image_txt.stem.split(\"_\")[0])\n",
    "    features_testing.append(image_to_vec(image_txt))"
   ]
  },
  {
   "cell_type": "markdown",
   "metadata": {},
   "source": [
    "## Lets train classifier and test the accuracy"
   ]
  },
  {
   "cell_type": "code",
   "execution_count": 25,
   "metadata": {},
   "outputs": [
    {
     "data": {
      "text/plain": [
       "KNeighborsClassifier(n_neighbors=1)"
      ]
     },
     "execution_count": 25,
     "metadata": {},
     "output_type": "execute_result"
    },
    {
     "name": "stdout",
     "output_type": "stream",
     "text": [
      "time: 285 ms\n"
     ]
    }
   ],
   "source": [
    "neigh = KNeighborsClassifier(n_neighbors=1)\n",
    "neigh.fit(features_training, labels_training)"
   ]
  },
  {
   "cell_type": "code",
   "execution_count": 43,
   "metadata": {},
   "outputs": [
    {
     "name": "stdout",
     "output_type": "stream",
     "text": [
      "Total Error rate 1.3742071881606766 %\n",
      "time: 4.89 s\n"
     ]
    }
   ],
   "source": [
    "error_count = 0\n",
    "for test, label in zip(features_testing, labels_testing):\n",
    "    predicted_label = neigh.predict(test)[0]\n",
    "    if label != predicted_label: error_count += 1\n",
    "    \n",
    "print(f\"Total Error rate {error_count  * 100/ len(features_testing)} %\")"
   ]
  }
 ],
 "metadata": {
  "kernelspec": {
   "display_name": "Python 3",
   "language": "python",
   "name": "python3"
  },
  "language_info": {
   "codemirror_mode": {
    "name": "ipython",
    "version": 3
   },
   "file_extension": ".py",
   "mimetype": "text/x-python",
   "name": "python",
   "nbconvert_exporter": "python",
   "pygments_lexer": "ipython3",
   "version": "3.6.9"
  }
 },
 "nbformat": 4,
 "nbformat_minor": 4
}
