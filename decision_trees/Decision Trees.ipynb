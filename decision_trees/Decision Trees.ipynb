{
 "cells": [
  {
   "cell_type": "markdown",
   "metadata": {},
   "source": [
    "## Add magic command to find exectution time"
   ]
  },
  {
   "cell_type": "code",
   "execution_count": 1,
   "metadata": {},
   "outputs": [],
   "source": [
    "%load_ext autotime"
   ]
  },
  {
   "cell_type": "markdown",
   "metadata": {},
   "source": [
    "## Imports"
   ]
  },
  {
   "cell_type": "code",
   "execution_count": 71,
   "metadata": {},
   "outputs": [
    {
     "name": "stdout",
     "output_type": "stream",
     "text": [
      "time: 1.17 ms\n"
     ]
    }
   ],
   "source": [
    "from math import log\n",
    "from collections import defaultdict\n",
    "from collections import Counter\n",
    "from copy import deepcopy\n",
    "\n",
    "from IPython.core.interactiveshell import InteractiveShell\n",
    "InteractiveShell.ast_node_interactivity = \"all\""
   ]
  },
  {
   "cell_type": "markdown",
   "metadata": {},
   "source": [
    "## Define Shannon's entropy"
   ]
  },
  {
   "cell_type": "code",
   "execution_count": 56,
   "metadata": {},
   "outputs": [
    {
     "name": "stdout",
     "output_type": "stream",
     "text": [
      "time: 1.45 ms\n"
     ]
    }
   ],
   "source": [
    "dataset = [[1, 1, 'yes'], [1, 1, 'yes'], [1, 0, 'no'], [0, 1, 'no'], [0, 1, 'no']]\n",
    "labels = ['no_surfacing','flippers']"
   ]
  },
  {
   "cell_type": "code",
   "execution_count": 4,
   "metadata": {},
   "outputs": [
    {
     "data": {
      "text/plain": [
       "defaultdict(int, {'yes': 2, 'no': 3})"
      ]
     },
     "execution_count": 4,
     "metadata": {},
     "output_type": "execute_result"
    },
    {
     "name": "stdout",
     "output_type": "stream",
     "text": [
      "time: 363 ms\n"
     ]
    }
   ],
   "source": [
    "label_counts = defaultdict(int)\n",
    "for data_point in dataset:\n",
    "    label = data_point[-1]\n",
    "    label_counts[label] += 1\n",
    "label_counts"
   ]
  },
  {
   "cell_type": "markdown",
   "metadata": {},
   "source": [
    "entropy = - (sum of all classes (p * log2(p)))"
   ]
  },
  {
   "cell_type": "code",
   "execution_count": 5,
   "metadata": {},
   "outputs": [
    {
     "data": {
      "text/plain": [
       "0.9709505944546686"
      ]
     },
     "execution_count": 5,
     "metadata": {},
     "output_type": "execute_result"
    },
    {
     "name": "stdout",
     "output_type": "stream",
     "text": [
      "time: 278 ms\n"
     ]
    }
   ],
   "source": [
    "len_data_points = len(dataset)\n",
    "shannon_entropy = 0\n",
    "for label, occ in label_counts.items():\n",
    "    prob = occ / len_data_points\n",
    "    shannon_entropy -= prob * log(prob, 2)\n",
    "shannon_entropy"
   ]
  },
  {
   "cell_type": "markdown",
   "metadata": {},
   "source": [
    "Function is written considering last item would be label"
   ]
  },
  {
   "cell_type": "code",
   "execution_count": 6,
   "metadata": {},
   "outputs": [
    {
     "name": "stdout",
     "output_type": "stream",
     "text": [
      "time: 325 ms\n"
     ]
    }
   ],
   "source": [
    "def entropy(dataset):\n",
    "    label_counts, entropy = defaultdict(int), 0\n",
    "    for data_point in dataset:\n",
    "        label_counts[data_point[-1]] += 1\n",
    "    for label, occ in label_counts.items():\n",
    "        prob = occ / len(dataset)\n",
    "        entropy -= prob * log(prob, 2)\n",
    "    return entropy"
   ]
  },
  {
   "cell_type": "markdown",
   "metadata": {},
   "source": [
    "The higher the entropy, the more mixed up the data is. Let’s make the data a little\n",
    "messier and see how the entropy changes. We’ll add a third class, which is called\n",
    "maybe , and see how the entropy changes"
   ]
  },
  {
   "cell_type": "code",
   "execution_count": 7,
   "metadata": {},
   "outputs": [
    {
     "data": {
      "text/plain": [
       "1.4591479170272448"
      ]
     },
     "execution_count": 7,
     "metadata": {},
     "output_type": "execute_result"
    },
    {
     "name": "stdout",
     "output_type": "stream",
     "text": [
      "We observe that by adding a new class, that is by making data more messier, entropy increases\n",
      "time: 768 ms\n"
     ]
    }
   ],
   "source": [
    "dataset = [[1, 1, 'maybe'], [1, 1, 'yes'], [1, 1, 'yes'], [1, 0, 'no'], [0, 1, 'no'], [0, 1, 'no']]\n",
    "entropy(dataset)\n",
    "print(\"We observe that by adding a new class, that is by making data more messier, entropy increases\")"
   ]
  },
  {
   "cell_type": "markdown",
   "metadata": {},
   "source": [
    "## Lets split the data on any feature column and value!"
   ]
  },
  {
   "cell_type": "markdown",
   "metadata": {},
   "source": [
    "On the simple dataset that we have, lets try to split on the first column(\"no_surfacing\"). It would be split based on if the value is either 1 or 0"
   ]
  },
  {
   "cell_type": "code",
   "execution_count": 8,
   "metadata": {},
   "outputs": [
    {
     "name": "stdout",
     "output_type": "stream",
     "text": [
      "time: 207 ms\n"
     ]
    }
   ],
   "source": [
    "dataset = [[1, 1, 'yes'], [1, 1, 'yes'], [1, 0, 'no'], [0, 1, 'no'], [0, 1, 'no']]"
   ]
  },
  {
   "cell_type": "markdown",
   "metadata": {},
   "source": [
    "Lets try to split data on first column if value is 1"
   ]
  },
  {
   "cell_type": "code",
   "execution_count": 9,
   "metadata": {},
   "outputs": [
    {
     "data": {
      "text/plain": [
       "[[1, 'yes'], [1, 'yes'], [0, 'no']]"
      ]
     },
     "execution_count": 9,
     "metadata": {},
     "output_type": "execute_result"
    },
    {
     "name": "stdout",
     "output_type": "stream",
     "text": [
      "time: 278 ms\n"
     ]
    }
   ],
   "source": [
    "axis = 0\n",
    "split_dataset = list()\n",
    "for data_point in dataset:\n",
    "    if data_point[axis] == 1:\n",
    "        new_split = data_point[:axis] + data_point[axis + 1:]\n",
    "        split_dataset.append(new_split)\n",
    "split_dataset"
   ]
  },
  {
   "cell_type": "markdown",
   "metadata": {},
   "source": [
    "The first three elements come to this group!"
   ]
  },
  {
   "cell_type": "code",
   "execution_count": 10,
   "metadata": {},
   "outputs": [
    {
     "name": "stdout",
     "output_type": "stream",
     "text": [
      "time: 959 µs\n"
     ]
    }
   ],
   "source": [
    "def split_dataset(dataset, axis, value):\n",
    "    split_dataset = [data_point[:axis] + data_point[axis + 1:] \n",
    "                     for data_point in dataset if data_point[axis] == value]\n",
    "    return split_dataset"
   ]
  },
  {
   "cell_type": "code",
   "execution_count": 11,
   "metadata": {},
   "outputs": [
    {
     "data": {
      "text/plain": [
       "[[1, 'no'], [1, 'no']]"
      ]
     },
     "execution_count": 11,
     "metadata": {},
     "output_type": "execute_result"
    },
    {
     "name": "stdout",
     "output_type": "stream",
     "text": [
      "time: 3.14 ms\n"
     ]
    }
   ],
   "source": [
    "split_dataset(dataset, 0, 0)"
   ]
  },
  {
   "cell_type": "markdown",
   "metadata": {},
   "source": [
    "## Lets find on which fetaure the data has to be split!"
   ]
  },
  {
   "cell_type": "code",
   "execution_count": 12,
   "metadata": {},
   "outputs": [
    {
     "name": "stdout",
     "output_type": "stream",
     "text": [
      "Base entropy : 0.9709505944546686\n",
      "time: 1.95 ms\n"
     ]
    }
   ],
   "source": [
    "num_features = len(dataset[0]) - 1\n",
    "best_infogain = float(\"-Inf\")\n",
    "split_feature_index = -1\n",
    "base_entropy = entropy(dataset)\n",
    "print(f\"Base entropy : {base_entropy}\")"
   ]
  },
  {
   "cell_type": "code",
   "execution_count": 13,
   "metadata": {},
   "outputs": [
    {
     "name": "stdout",
     "output_type": "stream",
     "text": [
      "Infogain : 0.4199730940219749\n",
      "Feature index where split gives maximum information gain : 0\n",
      "time: 3.19 ms\n"
     ]
    }
   ],
   "source": [
    "for axis in range(num_features):\n",
    "    unique_feature_val = {data_point[axis] for data_point in dataset}\n",
    "    feature_entropy = 0\n",
    "    for val in unique_feature_val:\n",
    "        sub_dataset = split_dataset(dataset, axis, val)\n",
    "        prob = len(sub_dataset) / len(dataset)\n",
    "        feature_entropy += prob * entropy(sub_dataset)\n",
    "    info_gain = base_entropy - feature_entropy\n",
    "    if info_gain > best_infogain:\n",
    "        best_infogain = info_gain\n",
    "        split_feature_index = axis\n",
    "print(f\"Infogain : {best_infogain}\")\n",
    "print(f\"Feature index where split gives maximum information gain : {split_feature_index}\")"
   ]
  },
  {
   "cell_type": "code",
   "execution_count": 14,
   "metadata": {},
   "outputs": [
    {
     "name": "stdout",
     "output_type": "stream",
     "text": [
      "time: 2.39 ms\n"
     ]
    }
   ],
   "source": [
    "def best_feature(dataset):\n",
    "    num_features = len(dataset[0]) - 1\n",
    "    best_infogain = float(\"-Inf\")\n",
    "    split_feature_index = -1\n",
    "    base_entropy = entropy(dataset)\n",
    "    \n",
    "    for axis in range(num_features):\n",
    "        unique_feature_val = {data_point[axis] for data_point in dataset}\n",
    "        feature_entropy = 0\n",
    "        for val in unique_feature_val:\n",
    "            sub_dataset = split_dataset(dataset, axis, val)\n",
    "            prob = len(sub_dataset) / len(dataset)\n",
    "            feature_entropy += prob * entropy(sub_dataset)\n",
    "        info_gain = base_entropy - feature_entropy\n",
    "        if info_gain > best_infogain:\n",
    "            best_infogain = info_gain\n",
    "            split_feature_index = axis\n",
    "            \n",
    "    return split_feature_index"
   ]
  },
  {
   "cell_type": "code",
   "execution_count": 15,
   "metadata": {},
   "outputs": [
    {
     "data": {
      "text/plain": [
       "0"
      ]
     },
     "execution_count": 15,
     "metadata": {},
     "output_type": "execute_result"
    },
    {
     "name": "stdout",
     "output_type": "stream",
     "text": [
      "time: 3.53 ms\n"
     ]
    }
   ],
   "source": [
    "best_feature(dataset)"
   ]
  },
  {
   "cell_type": "markdown",
   "metadata": {},
   "source": [
    "## Lets build the tree"
   ]
  },
  {
   "cell_type": "code",
   "execution_count": 28,
   "metadata": {},
   "outputs": [
    {
     "data": {
      "text/plain": [
       "{'no', 'yes'}"
      ]
     },
     "execution_count": 28,
     "metadata": {},
     "output_type": "execute_result"
    },
    {
     "name": "stdout",
     "output_type": "stream",
     "text": [
      "time: 2.91 ms\n"
     ]
    }
   ],
   "source": [
    "unique_labels = {data_point[-1] for data_point in dataset}\n",
    "unique_labels"
   ]
  },
  {
   "cell_type": "markdown",
   "metadata": {},
   "source": [
    "Base condition to stop recursion when all group contains only one class, This is because if only one class is present, the entropy would be 0 hence, information gain would be maximum"
   ]
  },
  {
   "cell_type": "code",
   "execution_count": 29,
   "metadata": {},
   "outputs": [
    {
     "name": "stdout",
     "output_type": "stream",
     "text": [
      "time: 807 µs\n"
     ]
    }
   ],
   "source": [
    "if len(unique_labels) == 1: pass\n",
    "    #return the class label"
   ]
  },
  {
   "cell_type": "markdown",
   "metadata": {},
   "source": [
    "When only label is present, meaning the dataset is enough split, return most common label as the class label"
   ]
  },
  {
   "cell_type": "code",
   "execution_count": 20,
   "metadata": {},
   "outputs": [
    {
     "name": "stdout",
     "output_type": "stream",
     "text": [
      "time: 1.29 ms\n"
     ]
    }
   ],
   "source": [
    "if len(dataset[0]) == 1:\n",
    "    label = Counter([data_point[-1] for data_point in dataset]).most_common()[0][0]"
   ]
  },
  {
   "cell_type": "code",
   "execution_count": 31,
   "metadata": {},
   "outputs": [
    {
     "name": "stdout",
     "output_type": "stream",
     "text": [
      "The dataset has to be split on the feature : no_surfacing\n",
      "time: 869 µs\n"
     ]
    }
   ],
   "source": [
    "split_feature = best_feature(dataset)\n",
    "print(f\"The dataset has to be split on the feature : {labels[split_feature]}\")"
   ]
  },
  {
   "cell_type": "code",
   "execution_count": 55,
   "metadata": {},
   "outputs": [
    {
     "name": "stdout",
     "output_type": "stream",
     "text": [
      "time: 2.67 ms\n"
     ]
    }
   ],
   "source": [
    "def create_tree(dataset, labels):\n",
    "    unique_labels = {data_point[-1] for data_point in dataset}\n",
    "    if len(unique_labels) == 1:\n",
    "        return Counter(unique_labels).most_common()[0][0]\n",
    "    if len(dataset[0]) == 1:\n",
    "        return Counter([data_point[-1] for data_point in dataset]).most_common()[0][0]\n",
    "        \n",
    "    split_feature_ind = best_feature(dataset)\n",
    "    split_feature = labels[split_feature_ind]\n",
    "    del labels[split_feature_ind]\n",
    "    \n",
    "    tree = defaultdict(dict)\n",
    "    unique_vals = {data_point[split_feature_ind] for data_point in dataset}\n",
    "    for val in unique_vals:\n",
    "        sub_labels = labels[:]\n",
    "        sub_dataset = split_dataset(dataset, split_feature_ind, val)\n",
    "        tree[split_feature][val] = create_tree(sub_dataset, sub_labels)\n",
    "    return tree"
   ]
  },
  {
   "cell_type": "code",
   "execution_count": 73,
   "metadata": {},
   "outputs": [
    {
     "name": "stdout",
     "output_type": "stream",
     "text": [
      "time: 856 µs\n"
     ]
    }
   ],
   "source": [
    "dataset = [[1, 1, 'yes'], [1, 1, 'yes'], [1, 0, 'no'], [0, 1, 'no'], [0, 1, 'no']]\n",
    "labels = ['no_surfacing','flippers']"
   ]
  },
  {
   "cell_type": "code",
   "execution_count": 74,
   "metadata": {},
   "outputs": [
    {
     "data": {
      "text/plain": [
       "defaultdict(dict,\n",
       "            {'no_surfacing': {0: 'no',\n",
       "              1: defaultdict(dict, {'flippers': {0: 'no', 1: 'yes'}})}})"
      ]
     },
     "execution_count": 74,
     "metadata": {},
     "output_type": "execute_result"
    },
    {
     "name": "stdout",
     "output_type": "stream",
     "text": [
      "time: 4.32 ms\n"
     ]
    }
   ],
   "source": [
    "tree = create_tree(dataset, deepcopy(labels))\n",
    "tree"
   ]
  },
  {
   "cell_type": "markdown",
   "metadata": {},
   "source": [
    "## Classify a new point using this tree"
   ]
  },
  {
   "cell_type": "code",
   "execution_count": 85,
   "metadata": {},
   "outputs": [
    {
     "name": "stdout",
     "output_type": "stream",
     "text": [
      "time: 3.03 ms\n"
     ]
    }
   ],
   "source": [
    "def classify(inputTree,featLabels,testVec):\n",
    "    firstStr = list(inputTree.keys())[0]\n",
    "    secondDict = inputTree[firstStr]\n",
    "    featIndex = featLabels.index(firstStr)\n",
    "    for key in secondDict.keys():\n",
    "        if testVec[featIndex] == key:\n",
    "            if type(secondDict[key]).__name__=='dict':\n",
    "                classLabel = classify(secondDict[key],featLabels,testVec)\n",
    "            else:\n",
    "                classLabel = secondDict[key]\n",
    "    return classLabel"
   ]
  }
 ],
 "metadata": {
  "kernelspec": {
   "display_name": "Python 3",
   "language": "python",
   "name": "python3"
  },
  "language_info": {
   "codemirror_mode": {
    "name": "ipython",
    "version": 3
   },
   "file_extension": ".py",
   "mimetype": "text/x-python",
   "name": "python",
   "nbconvert_exporter": "python",
   "pygments_lexer": "ipython3",
   "version": "3.6.9"
  }
 },
 "nbformat": 4,
 "nbformat_minor": 4
}
